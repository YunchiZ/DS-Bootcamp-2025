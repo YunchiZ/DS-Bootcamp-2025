{
 "cells": [
  {
   "cell_type": "markdown",
   "metadata": {},
   "source": [
    "### 1. How do you assess the statistical significance of an insight?\n",
    "\n",
    "- I can use hypothesis testing, and check if the p-value is below a chosen threshold, indicating the result is unlikely due to random chance."
   ]
  },
  {
   "cell_type": "markdown",
   "metadata": {},
   "source": [
    "### 2. What is the Central Limit Theorem? Explain it. Why is it important?\n",
    "\n",
    "- It means with the sample size increase, the distribution of the sample mean approaches a normal distribution.\n",
    "- It's important because it enables the use of normal-based statistical methods even when the population distribution is unknown."
   ]
  },
  {
   "cell_type": "markdown",
   "metadata": {},
   "source": [
    "### 3. What is statistical power?\n",
    "\n",
    "- The probability that a test correctly rejects a false null hypothesis"
   ]
  },
  {
   "cell_type": "markdown",
   "metadata": {},
   "source": [
    "### 4. How do you control for biases?\n",
    "- Use randomization, blinding, proper sampling methods, control groups, and statistical techniques like regression to minimize systematic errors."
   ]
  },
  {
   "cell_type": "markdown",
   "metadata": {},
   "source": [
    "### 5. What are confounding variables?\n",
    "\n",
    "- Variables that influence the independent and dependent variables. They can misleading the effect being studied."
   ]
  },
  {
   "cell_type": "markdown",
   "metadata": {},
   "source": [
    "### 6. What is A/B testing?\n",
    "\n",
    "- Comparing two versions on different tests to determine which performs better based on a specific metric."
   ]
  },
  {
   "cell_type": "markdown",
   "metadata": {},
   "source": [
    "### 7. What are confidence intervals?\n",
    "\n",
    "- A range of values derived from sample data that likely contains the true population parameter, typically expressed with a confidence level "
   ]
  },
  {
   "cell_type": "markdown",
   "metadata": {},
   "source": []
  }
 ],
 "metadata": {
  "language_info": {
   "name": "python"
  }
 },
 "nbformat": 4,
 "nbformat_minor": 2
}
